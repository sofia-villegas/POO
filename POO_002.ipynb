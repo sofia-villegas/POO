{
  "nbformat": 4,
  "nbformat_minor": 0,
  "metadata": {
    "colab": {
      "provenance": []
    },
    "kernelspec": {
      "name": "python3",
      "display_name": "Python 3"
    },
    "language_info": {
      "name": "python"
    }
  },
  "cells": [
    {
      "cell_type": "code",
      "execution_count": 8,
      "metadata": {
        "id": "plzhSx3kVX_9"
      },
      "outputs": [],
      "source": [
        "def area(b,l):\n",
        "  a= ((b*l)/2)\n",
        "  return a\n",
        "def perimetro(b,l):\n",
        "  p=(2*l+b)\n",
        "  return p"
      ]
    },
    {
      "cell_type": "code",
      "source": [
        "area(6,9)"
      ],
      "metadata": {
        "colab": {
          "base_uri": "https://localhost:8080/"
        },
        "id": "igYsKecGaDA6",
        "outputId": "c3884079-f05d-4277-857b-bf5e2cd83a1a"
      },
      "execution_count": 4,
      "outputs": [
        {
          "output_type": "execute_result",
          "data": {
            "text/plain": [
              "27.0"
            ]
          },
          "metadata": {},
          "execution_count": 4
        }
      ]
    },
    {
      "cell_type": "code",
      "source": [
        "perimetro(6,9)"
      ],
      "metadata": {
        "colab": {
          "base_uri": "https://localhost:8080/"
        },
        "id": "gJiZ0njXZgjS",
        "outputId": "21ea67fe-f896-428f-f12a-c38b2d154f05"
      },
      "execution_count": 5,
      "outputs": [
        {
          "output_type": "execute_result",
          "data": {
            "text/plain": [
              "24"
            ]
          },
          "metadata": {},
          "execution_count": 5
        }
      ]
    },
    {
      "cell_type": "code",
      "source": [
        "def num(x):\n",
        "  numpar=x%2\n",
        "  return numpar\n",
        ""
      ],
      "metadata": {
        "id": "RCop4Vg2cguC"
      },
      "execution_count": 9,
      "outputs": []
    },
    {
      "cell_type": "code",
      "source": [
        "num(3)"
      ],
      "metadata": {
        "colab": {
          "base_uri": "https://localhost:8080/"
        },
        "id": "zmvT4HeKdDS7",
        "outputId": "61ee4e1a-a38a-4447-f859-9c136dd0a000"
      },
      "execution_count": 11,
      "outputs": [
        {
          "output_type": "execute_result",
          "data": {
            "text/plain": [
              "1"
            ]
          },
          "metadata": {},
          "execution_count": 11
        }
      ]
    },
    {
      "cell_type": "code",
      "source": [
        "x=4\n",
        "\n",
        "if num(x)==0:\n",
        "  print(\"es par\")\n",
        "else:\n",
        "    print(\"es impar\")"
      ],
      "metadata": {
        "colab": {
          "base_uri": "https://localhost:8080/"
        },
        "id": "HBqtOubjc1lc",
        "outputId": "52e1c544-69ad-4505-b489-291d27cbe196"
      },
      "execution_count": 13,
      "outputs": [
        {
          "output_type": "stream",
          "name": "stdout",
          "text": [
            "es par\n"
          ]
        }
      ]
    },
    {
      "cell_type": "code",
      "source": [
        "def perfecto(n):\n",
        "  sumadiv = 1\n",
        "  for i in range(2, int(n**0.5) + 1):\n",
        "    if n % i == 0:\n",
        "      sumadiv += i + n // i\n",
        "  return sumadiv == n\n",
        "x=6\n",
        "if perfecto(x):\n",
        "  print(\"es perfecto\")\n",
        "else:\n",
        "  print(\"no es perfecto\")"
      ],
      "metadata": {
        "colab": {
          "base_uri": "https://localhost:8080/"
        },
        "id": "3L9WLegVdxyp",
        "outputId": "49640114-932e-4f4f-c890-69f9d19f9949"
      },
      "execution_count": 30,
      "outputs": [
        {
          "output_type": "stream",
          "name": "stdout",
          "text": [
            "es perfecto\n"
          ]
        }
      ]
    }
  ]
}