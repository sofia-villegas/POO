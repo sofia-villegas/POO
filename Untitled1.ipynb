{
  "nbformat": 4,
  "nbformat_minor": 0,
  "metadata": {
    "colab": {
      "provenance": []
    },
    "kernelspec": {
      "name": "python3",
      "display_name": "Python 3"
    },
    "language_info": {
      "name": "python"
    }
  },
  "cells": [
    {
      "cell_type": "code",
      "execution_count": 4,
      "metadata": {
        "colab": {
          "base_uri": "https://localhost:8080/"
        },
        "id": "-1g5fwKMida6",
        "outputId": "0bdfcb40-b8ad-4255-b1f6-9c51054a98cc"
      },
      "outputs": [
        {
          "output_type": "stream",
          "name": "stdout",
          "text": [
            "Hola Mundo\n",
            "8\n",
            "-2\n",
            "15\n",
            "243\n",
            "0.6\n",
            "0\n",
            "3\n"
          ]
        }
      ],
      "source": [
        "print(\"Hola Mundo\")\n",
        "\n",
        "#CREAR VARIABLES\n",
        "x=3\n",
        "y=5\n",
        "\n",
        "print(x+y)\n",
        "print(x-y)\n",
        "print(x*y)\n",
        "print(x**y)\n",
        "print(x/y)\n",
        "print(x//y)\n",
        "print(x%y)"
      ]
    },
    {
      "cell_type": "markdown",
      "source": [
        "#**Primeros objetos**\n",
        "\n",
        "\n",
        "\n",
        "1.   objetos\n",
        "2.   listas\n",
        "3.   conjuntos\n",
        "\n",
        "EN python se pueden realizar operaciones sobre objetos\n",
        "Además es util para resolver un sistema de ecuaciones lineales.\n",
        "\n",
        "$$\n",
        "f(x,y)\\begin{cases}\n",
        "x+2y&=3\\\\\n",
        "2x+4y&=6\n",
        "\\end{cases}\n",
        "$$\n",
        "\n",
        "\n",
        "\n"
      ],
      "metadata": {
        "id": "Lv3f125VjqR8"
      }
    }
  ]
}