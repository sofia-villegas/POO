{
  "nbformat": 4,
  "nbformat_minor": 0,
  "metadata": {
    "colab": {
      "provenance": []
    },
    "kernelspec": {
      "name": "python3",
      "display_name": "Python 3"
    },
    "language_info": {
      "name": "python"
    }
  },
  "cells": [
    {
      "cell_type": "code",
      "source": [
        "class Hobbies():\n",
        "  def __init__ (self):\n",
        "    print(\"definiremos cuales son mis hobbies\")\n",
        "  def fin(self):\n",
        "    print(\"los fines de semana\")\n",
        "  def entre (self):\n",
        "    print(\"entre semana\")"
      ],
      "metadata": {
        "id": "BCOmvgNTdcFA"
      },
      "execution_count": 1,
      "outputs": []
    },
    {
      "cell_type": "code",
      "source": [
        "hobbies=Hobbies()"
      ],
      "metadata": {
        "colab": {
          "base_uri": "https://localhost:8080/"
        },
        "id": "t64II9p3obeZ",
        "outputId": "a52efdec-adf5-4568-de91-c033d2e867da"
      },
      "execution_count": 2,
      "outputs": [
        {
          "output_type": "stream",
          "name": "stdout",
          "text": [
            "definiremos cuales son mis hobbies\n"
          ]
        }
      ]
    },
    {
      "cell_type": "code",
      "source": [
        "hobbies.fin()"
      ],
      "metadata": {
        "colab": {
          "base_uri": "https://localhost:8080/"
        },
        "id": "wrHSo6VfocDA",
        "outputId": "1d9a8c9f-e516-40b7-de4f-5abe2c5497f0"
      },
      "execution_count": 3,
      "outputs": [
        {
          "output_type": "stream",
          "name": "stdout",
          "text": [
            "los fines de semana\n"
          ]
        }
      ]
    },
    {
      "cell_type": "code",
      "source": [
        "hobbies.entre()"
      ],
      "metadata": {
        "colab": {
          "base_uri": "https://localhost:8080/"
        },
        "id": "2-HnpJ3bocTI",
        "outputId": "a3995aec-ec4f-4247-c009-f5f7bf647e0b"
      },
      "execution_count": 4,
      "outputs": [
        {
          "output_type": "stream",
          "name": "stdout",
          "text": [
            "entre semana\n"
          ]
        }
      ]
    },
    {
      "cell_type": "code",
      "source": [
        "class gustos(Hobbies):\n",
        "  def __init__(self):\n",
        "    Hobbies.__init__(self)\n",
        "    print(\"contesta\")\n",
        "  def nombre(self):\n",
        "    print(\"leer\")\n",
        "  def colores(self):\n",
        "      print(\"dibujar\")"
      ],
      "metadata": {
        "id": "dJtgXg8Fg4QL"
      },
      "execution_count": 5,
      "outputs": []
    },
    {
      "cell_type": "code",
      "source": [
        "contesta = gustos()"
      ],
      "metadata": {
        "colab": {
          "base_uri": "https://localhost:8080/"
        },
        "id": "USdEaeYPn4tz",
        "outputId": "788db8ad-89c3-40c1-861d-73f9bfbb7613"
      },
      "execution_count": 6,
      "outputs": [
        {
          "output_type": "stream",
          "name": "stdout",
          "text": [
            "definiremos cuales son mis hobbies\n",
            "contesta\n"
          ]
        }
      ]
    },
    {
      "cell_type": "code",
      "source": [
        "contesta.nombre()"
      ],
      "metadata": {
        "colab": {
          "base_uri": "https://localhost:8080/"
        },
        "id": "fG7xir6en5ZJ",
        "outputId": "73e6ed78-9ef2-4123-db3a-fece8ace31cc"
      },
      "execution_count": 7,
      "outputs": [
        {
          "output_type": "stream",
          "name": "stdout",
          "text": [
            "leer\n"
          ]
        }
      ]
    },
    {
      "cell_type": "code",
      "source": [
        "contesta.colores()"
      ],
      "metadata": {
        "colab": {
          "base_uri": "https://localhost:8080/"
        },
        "id": "w1Gk9SRHpFGv",
        "outputId": "c91e7cbf-31ab-454a-f5c3-695df691da1a"
      },
      "execution_count": 8,
      "outputs": [
        {
          "output_type": "stream",
          "name": "stdout",
          "text": [
            "dibujar\n"
          ]
        }
      ]
    }
  ]
}