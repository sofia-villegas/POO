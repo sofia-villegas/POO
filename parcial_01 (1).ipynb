{
  "nbformat": 4,
  "nbformat_minor": 0,
  "metadata": {
    "colab": {
      "provenance": []
    },
    "kernelspec": {
      "name": "python3",
      "display_name": "Python 3"
    },
    "language_info": {
      "name": "python"
    }
  },
  "cells": [
    {
      "cell_type": "code",
      "source": [
        "class Area(): # Clase para calcular el área y perímetro de un triángulo\n",
        "    def __init__(self, lado_a, lado_b, lado_c, altura): # Inicializa los atributos de la clase\n",
        "        self.lado_a = lado_a\n",
        "        self.lado_b = lado_b\n",
        "        self.lado_c = lado_c\n",
        "        self.altura = altura\n",
        "    def tipo_triangulo(self): # Determina el tipo de triángulo según sus lados usando if y else\n",
        "        if self.lado_a == self.lado_b and self.lado_b == self.lado_c:\n",
        "            return 'Equilátero'\n",
        "\n",
        "        elif self.lado_a == self.lado_b or self.lado_a == self.lado_c or self.lado_b == self.lado_c:\n",
        "            return 'Isósceles'\n",
        "\n",
        "        else:\n",
        "            return 'Escaleno'\n",
        "    def perimetro(self): # Calcula el perímetro del triángulo\n",
        "        perimetro = (self.lado_a + self.lado_b + self.lado_c)\n",
        "        return perimetro\n",
        "\n",
        "    def area_triangulo(self): # Calcula el área del triángulo\n",
        "        area = ((self.lado_b * self.altura)/2)\n",
        "        return area\n",
        "\n",
        "    def mostrar_area(self): # Muestra el área del triángulo\n",
        "        tipo = self.tipo_triangulo()\n",
        "        area = self.area_triangulo()\n",
        "        print(f\"El área del triángulo {tipo} es {area}\")\n",
        "\n",
        "\n",
        "    def mostrar_perimetro(self):  # Muestra el perímetro del triángulo\n",
        "        tipo = self.tipo_triangulo()\n",
        "        perimetro = self.perimetro()\n",
        "        print(f\"El perímetro del triángulo {tipo} es {perimetro}\")\n",
        "\n",
        "\n"
      ],
      "metadata": {
        "id": "BCOmvgNTdcFA"
      },
      "execution_count": 43,
      "outputs": []
    },
    {
      "cell_type": "code",
      "source": [
        "class Felicitaciones(Area): # Clase para mostrar un mensaje de felicitación\n",
        "  def __init__(self):\n",
        "    print('felicidades')\n",
        "  def mensaje(self):\n",
        "    print('resolviste correctamente el área y perímetro')"
      ],
      "metadata": {
        "id": "1OsYsveR5o2A"
      },
      "execution_count": 59,
      "outputs": []
    },
    {
      "cell_type": "code",
      "source": [
        "area = Area(5,5,5,10) # Cree un objeto de la clase Area con lado_a = 5, lado_b = 5, lado_c = 5 y altura = 10\n",
        "area.tipo_triangulo()\n",
        "area.perimetro()\n",
        "area.mostrar_area()\n",
        "area.mostrar_perimetro()\n",
        "felicitaciones = Felicitaciones()\n",
        "felicitaciones.mensaje()\n",
        "\n"
      ],
      "metadata": {
        "colab": {
          "base_uri": "https://localhost:8080/"
        },
        "id": "SxeiEBW8ruEc",
        "outputId": "74fceba2-22d9-4bd3-d6d4-14cb68d41739"
      },
      "execution_count": 62,
      "outputs": [
        {
          "output_type": "stream",
          "name": "stdout",
          "text": [
            "El área del triángulo Equilátero es 25.0\n",
            "El perímetro del triángulo Equilátero es 15\n",
            "felicidades\n",
            "resolviste correctamente el área y perímetro\n"
          ]
        }
      ]
    },
    {
      "cell_type": "code",
      "source": [
        "area = Area(5,3,5,10)\n",
        "area.tipo_triangulo()\n",
        "area.perimetro()\n",
        "area.mostrar_area()\n",
        "area.mostrar_perimetro()\n",
        "felicitaciones = Felicitaciones()\n",
        "felicitaciones.mensaje()"
      ],
      "metadata": {
        "colab": {
          "base_uri": "https://localhost:8080/"
        },
        "id": "wuNr58pk2spJ",
        "outputId": "a7ddb6a7-d2f5-4254-95a0-3bf50b471321"
      },
      "execution_count": 63,
      "outputs": [
        {
          "output_type": "stream",
          "name": "stdout",
          "text": [
            "El área del triángulo Isósceles es 15.0\n",
            "El perímetro del triángulo Isósceles es 13\n",
            "felicidades\n",
            "resolviste correctamente el área y perímetro\n"
          ]
        }
      ]
    },
    {
      "cell_type": "code",
      "source": [
        "area = Area(5,8,2,9)\n",
        "area.tipo_triangulo()\n",
        "area.perimetro()\n",
        "area.mostrar_area()\n",
        "area.mostrar_perimetro()\n",
        "felicitaciones = Felicitaciones()\n",
        "felicitaciones.mensaje()"
      ],
      "metadata": {
        "colab": {
          "base_uri": "https://localhost:8080/"
        },
        "id": "u3H9YMsw2tjI",
        "outputId": "4d50a0d6-3b34-4326-c4c5-6191833bf780"
      },
      "execution_count": 64,
      "outputs": [
        {
          "output_type": "stream",
          "name": "stdout",
          "text": [
            "El área del triángulo Escaleno es 36.0\n",
            "El perímetro del triángulo Escaleno es 15\n",
            "felicidades\n",
            "resolviste correctamente el área y perímetro\n"
          ]
        }
      ]
    },
    {
      "cell_type": "code",
      "source": [
        "import numpy as np\n",
        "lista = np.random.randint(1,101,16)\n",
        "lista\n"
      ],
      "metadata": {
        "colab": {
          "base_uri": "https://localhost:8080/"
        },
        "id": "ZiFMmncFylMV",
        "outputId": "1260f7b7-6f58-4cd1-ed56-77ae3c66ff3b"
      },
      "execution_count": 3,
      "outputs": [
        {
          "output_type": "execute_result",
          "data": {
            "text/plain": [
              "array([66, 94, 90, 98, 31, 14, 55, 16,  3, 98, 36, 18,  5, 35, 35, 57])"
            ]
          },
          "metadata": {},
          "execution_count": 3
        }
      ]
    },
    {
      "cell_type": "code",
      "source": [
        "matriz = np.reshape(lista, (4, 4))\n",
        "matriz"
      ],
      "metadata": {
        "colab": {
          "base_uri": "https://localhost:8080/"
        },
        "id": "fyQIqpTN0hxT",
        "outputId": "a1483270-9d5c-4166-f1e4-c3cc5043534d"
      },
      "execution_count": 4,
      "outputs": [
        {
          "output_type": "execute_result",
          "data": {
            "text/plain": [
              "array([[66, 94, 90, 98],\n",
              "       [31, 14, 55, 16],\n",
              "       [ 3, 98, 36, 18],\n",
              "       [ 5, 35, 35, 57]])"
            ]
          },
          "metadata": {},
          "execution_count": 4
        }
      ]
    },
    {
      "cell_type": "code",
      "source": [
        "determinante = np.linalg.det(matriz)\n",
        "transpuesta = matriz.T"
      ],
      "metadata": {
        "id": "3kNrWBlOz6l7"
      },
      "execution_count": 5,
      "outputs": []
    },
    {
      "cell_type": "code",
      "source": [
        "determinante\n"
      ],
      "metadata": {
        "colab": {
          "base_uri": "https://localhost:8080/"
        },
        "id": "HS8qpTAV02Zr",
        "outputId": "6978bc78-cfbf-4503-c3dc-5b1dc2e9ed97"
      },
      "execution_count": 6,
      "outputs": [
        {
          "output_type": "execute_result",
          "data": {
            "text/plain": [
              "-9446399.999999993"
            ]
          },
          "metadata": {},
          "execution_count": 6
        }
      ]
    },
    {
      "cell_type": "code",
      "source": [
        "transpuesta"
      ],
      "metadata": {
        "colab": {
          "base_uri": "https://localhost:8080/"
        },
        "id": "BrTbzE_w07Zb",
        "outputId": "1f22d0b3-682e-4082-cb0a-2fd7ff080f69"
      },
      "execution_count": 7,
      "outputs": [
        {
          "output_type": "execute_result",
          "data": {
            "text/plain": [
              "array([[66, 31,  3,  5],\n",
              "       [94, 14, 98, 35],\n",
              "       [90, 55, 36, 35],\n",
              "       [98, 16, 18, 57]])"
            ]
          },
          "metadata": {},
          "execution_count": 7
        }
      ]
    }
  ]
}