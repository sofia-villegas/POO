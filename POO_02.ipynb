{
  "nbformat": 4,
  "nbformat_minor": 0,
  "metadata": {
    "colab": {
      "provenance": []
    },
    "kernelspec": {
      "name": "python3",
      "display_name": "Python 3"
    },
    "language_info": {
      "name": "python"
    }
  },
  "cells": [
    {
      "cell_type": "markdown",
      "source": [
        "#LISTAS"
      ],
      "metadata": {
        "id": "kFTQLTPxT6D5"
      }
    },
    {
      "cell_type": "code",
      "source": [
        "#Vamos a generar una lista vacía\n",
        "L=[]\n",
        "range(10)"
      ],
      "metadata": {
        "id": "MaOL2P7uT-pM"
      },
      "execution_count": null,
      "outputs": []
    },
    {
      "cell_type": "code",
      "source": [
        "L =[1,2,3,4]\n",
        "L"
      ],
      "metadata": {
        "colab": {
          "base_uri": "https://localhost:8080/"
        },
        "id": "MsvqUDNcU_Io",
        "outputId": "62fc77e0-33d5-4e9d-e825-458fac574b96"
      },
      "execution_count": 3,
      "outputs": [
        {
          "output_type": "execute_result",
          "data": {
            "text/plain": [
              "[1, 2, 3, 4]"
            ]
          },
          "metadata": {},
          "execution_count": 3
        }
      ]
    },
    {
      "cell_type": "code",
      "source": [
        "L.append(6)\n",
        "L"
      ],
      "metadata": {
        "colab": {
          "base_uri": "https://localhost:8080/"
        },
        "id": "UxV8VoCvXCPO",
        "outputId": "f4ccb449-60ec-473c-dc9e-959b03bf4178"
      },
      "execution_count": 8,
      "outputs": [
        {
          "output_type": "execute_result",
          "data": {
            "text/plain": [
              "[1, 2, 3, 4, 5, 5, 5, 5, 6]"
            ]
          },
          "metadata": {},
          "execution_count": 8
        }
      ]
    },
    {
      "cell_type": "code",
      "source": [
        "for i in range(10):\n",
        "  print(i)"
      ],
      "metadata": {
        "colab": {
          "base_uri": "https://localhost:8080/"
        },
        "id": "XZcasL1jVVdX",
        "outputId": "f4ea8f25-aba6-480f-dccf-bfeefd8959d1"
      },
      "execution_count": 2,
      "outputs": [
        {
          "output_type": "stream",
          "name": "stdout",
          "text": [
            "0\n",
            "1\n",
            "2\n",
            "3\n",
            "4\n",
            "5\n",
            "6\n",
            "7\n",
            "8\n",
            "9\n"
          ]
        }
      ]
    },
    {
      "cell_type": "markdown",
      "source": [
        "##Listas por compresión"
      ],
      "metadata": {
        "id": "fDBs650HZ6ao"
      }
    },
    {
      "cell_type": "code",
      "source": [
        "type([])"
      ],
      "metadata": {
        "colab": {
          "base_uri": "https://localhost:8080/"
        },
        "id": "V3Ol7oAgawpG",
        "outputId": "ed8f6ef2-b31f-4622-82ef-f9b0f895978e"
      },
      "execution_count": 10,
      "outputs": [
        {
          "output_type": "execute_result",
          "data": {
            "text/plain": [
              "list"
            ]
          },
          "metadata": {},
          "execution_count": 10
        }
      ]
    },
    {
      "cell_type": "code",
      "source": [
        "len([2,4,6,8])"
      ],
      "metadata": {
        "colab": {
          "base_uri": "https://localhost:8080/"
        },
        "id": "DyGqrmpnawyW",
        "outputId": "a407e915-5fff-49bd-aaf6-e19790f86096"
      },
      "execution_count": 11,
      "outputs": [
        {
          "output_type": "execute_result",
          "data": {
            "text/plain": [
              "0"
            ]
          },
          "metadata": {},
          "execution_count": 11
        }
      ]
    },
    {
      "cell_type": "code",
      "source": [
        "Pares =[i for i in range(1,101) if i%2==0]\n",
        "Pares"
      ],
      "metadata": {
        "colab": {
          "base_uri": "https://localhost:8080/"
        },
        "id": "_Gcaa2nUbYd-",
        "outputId": "feada2d9-4011-4b8a-8880-9fd69d5b27fe"
      },
      "execution_count": 32,
      "outputs": [
        {
          "output_type": "execute_result",
          "data": {
            "text/plain": [
              "[2,\n",
              " 4,\n",
              " 6,\n",
              " 8,\n",
              " 10,\n",
              " 12,\n",
              " 14,\n",
              " 16,\n",
              " 18,\n",
              " 20,\n",
              " 22,\n",
              " 24,\n",
              " 26,\n",
              " 28,\n",
              " 30,\n",
              " 32,\n",
              " 34,\n",
              " 36,\n",
              " 38,\n",
              " 40,\n",
              " 42,\n",
              " 44,\n",
              " 46,\n",
              " 48,\n",
              " 50,\n",
              " 52,\n",
              " 54,\n",
              " 56,\n",
              " 58,\n",
              " 60,\n",
              " 62,\n",
              " 64,\n",
              " 66,\n",
              " 68,\n",
              " 70,\n",
              " 72,\n",
              " 74,\n",
              " 76,\n",
              " 78,\n",
              " 80,\n",
              " 82,\n",
              " 84,\n",
              " 86,\n",
              " 88,\n",
              " 90,\n",
              " 92,\n",
              " 94,\n",
              " 96,\n",
              " 98,\n",
              " 100]"
            ]
          },
          "metadata": {},
          "execution_count": 32
        }
      ]
    },
    {
      "cell_type": "markdown",
      "source": [
        "#Módulo NumPy"
      ],
      "metadata": {
        "id": "PxMjt9pdfv4I"
      }
    },
    {
      "cell_type": "code",
      "source": [
        "import numpy as np\n"
      ],
      "metadata": {
        "id": "OGzlOBPZf0rm"
      },
      "execution_count": 15,
      "outputs": []
    },
    {
      "cell_type": "code",
      "source": [
        "np.random.randint(1,101,5)"
      ],
      "metadata": {
        "colab": {
          "base_uri": "https://localhost:8080/"
        },
        "id": "Tul56YzJhBYe",
        "outputId": "71ba7e88-9752-4d48-d084-22b626c9a049"
      },
      "execution_count": 17,
      "outputs": [
        {
          "output_type": "execute_result",
          "data": {
            "text/plain": [
              "array([45,  9, 58, 24, 67])"
            ]
          },
          "metadata": {},
          "execution_count": 17
        }
      ]
    },
    {
      "cell_type": "code",
      "source": [
        "Par = np.random.randint(1,10,100) #genera 100 numeros random entre 1 y 10\n",
        "Par"
      ],
      "metadata": {
        "colab": {
          "base_uri": "https://localhost:8080/"
        },
        "id": "YUz_2ooWhS-9",
        "outputId": "20bd7c1e-83b3-4894-a063-1bf8c0ca8689"
      },
      "execution_count": 20,
      "outputs": [
        {
          "output_type": "execute_result",
          "data": {
            "text/plain": [
              "array([3, 4, 4, 8, 4, 2, 5, 8, 4, 1, 2, 8, 8, 2, 1, 8, 7, 9, 7, 8, 6, 9,\n",
              "       8, 4, 3, 3, 2, 4, 4, 4, 4, 4, 9, 5, 3, 8, 6, 5, 4, 1, 1, 7, 1, 1,\n",
              "       9, 3, 3, 8, 3, 3, 2, 9, 5, 5, 6, 2, 1, 7, 4, 9, 1, 3, 6, 1, 4, 6,\n",
              "       7, 8, 6, 4, 2, 6, 3, 8, 8, 9, 5, 5, 9, 7, 1, 4, 2, 8, 3, 2, 1, 7,\n",
              "       4, 9, 4, 3, 3, 3, 5, 4, 8, 4, 3, 1])"
            ]
          },
          "metadata": {},
          "execution_count": 20
        }
      ]
    },
    {
      "cell_type": "code",
      "source": [
        "# P usa la función for para condicionar que los numeros en la variable PAR si son divididos en 2 dan residuo 0, es decir, son pares\n",
        "P =[i for i in Par if i%2==0]\n",
        "P"
      ],
      "metadata": {
        "colab": {
          "base_uri": "https://localhost:8080/"
        },
        "id": "pQ1IZmWChjX8",
        "outputId": "0914538b-1ad9-4bc0-a10a-6df2d6b9bc55"
      },
      "execution_count": 33,
      "outputs": [
        {
          "output_type": "execute_result",
          "data": {
            "text/plain": [
              "[4,\n",
              " 4,\n",
              " 8,\n",
              " 4,\n",
              " 2,\n",
              " 8,\n",
              " 4,\n",
              " 2,\n",
              " 8,\n",
              " 8,\n",
              " 2,\n",
              " 8,\n",
              " 8,\n",
              " 6,\n",
              " 8,\n",
              " 4,\n",
              " 2,\n",
              " 4,\n",
              " 4,\n",
              " 4,\n",
              " 4,\n",
              " 4,\n",
              " 8,\n",
              " 6,\n",
              " 4,\n",
              " 8,\n",
              " 2,\n",
              " 6,\n",
              " 2,\n",
              " 4,\n",
              " 6,\n",
              " 4,\n",
              " 6,\n",
              " 8,\n",
              " 6,\n",
              " 4,\n",
              " 2,\n",
              " 6,\n",
              " 8,\n",
              " 8,\n",
              " 4,\n",
              " 2,\n",
              " 8,\n",
              " 2,\n",
              " 4,\n",
              " 4,\n",
              " 4,\n",
              " 8,\n",
              " 4]"
            ]
          },
          "metadata": {},
          "execution_count": 33
        }
      ]
    }
  ]
}