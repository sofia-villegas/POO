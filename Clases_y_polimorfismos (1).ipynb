{
  "cells": [
    {
      "cell_type": "markdown",
      "metadata": {
        "id": "GzgxmEWkrHQc"
      },
      "source": [
        "# Clases, herencia y polimorfismos"
      ]
    },
    {
      "cell_type": "markdown",
      "metadata": {
        "id": "XaYv_1XqrHQd"
      },
      "source": [
        "## Definiciones"
      ]
    },
    {
      "cell_type": "markdown",
      "metadata": {
        "id": "rFg5Mu_xrHQd"
      },
      "source": [
        "Las definiciones se crean de íntegramente (built-in) en Python. El método es `def`"
      ]
    },
    {
      "cell_type": "markdown",
      "metadata": {
        "id": "mFO_o8jWrHQe"
      },
      "source": [
        "Imaginemos que queremos crear una función global que salude a cierta persona."
      ]
    },
    {
      "cell_type": "code",
      "execution_count": null,
      "metadata": {
        "id": "nLcdmD7brHQe"
      },
      "outputs": [],
      "source": [
        "def Hola( ):  #ESTAMOS DEFININDO UNA CLASE\n",
        "    x = \"Hola!\" #AQUI LE ESTAMOS ASIGNANDO UN VALOR  X\n",
        "    return x  #NOS MUESRA EL VALOR DE LA VARIABLE"
      ]
    },
    {
      "cell_type": "code",
      "execution_count": null,
      "metadata": {
        "id": "rBPwCesDrHQe",
        "outputId": "8c74be00-0b87-4bb9-d106-a5887a762c88"
      },
      "outputs": [
        {
          "data": {
            "text/plain": [
              "'Hola!'"
            ]
          },
          "execution_count": 2,
          "metadata": {},
          "output_type": "execute_result"
        }
      ],
      "source": [
        "Hola( ) #ESTAMOS PIDIENDOL UNA RESPUSTA"
      ]
    },
    {
      "cell_type": "code",
      "execution_count": null,
      "metadata": {
        "id": "8Bbn7tfbrHQf"
      },
      "outputs": [],
      "source": [
        "def Hi():  #ESTAMOS DEFININDO UNA CLASE HI\n",
        "    print(\"Hi!\")  #PIDIENDO QUE IMPRIMA TEXTO"
      ]
    },
    {
      "cell_type": "code",
      "execution_count": null,
      "metadata": {
        "id": "VyqR7A_frHQf",
        "outputId": "ea77b0c2-1eeb-431b-a3f5-efeca896b772"
      },
      "outputs": [
        {
          "name": "stdout",
          "output_type": "stream",
          "text": [
            "Hi!\n"
          ]
        }
      ],
      "source": [
        "Hi()"
      ]
    },
    {
      "cell_type": "code",
      "execution_count": null,
      "metadata": {
        "id": "_V34ZAcXrHQf"
      },
      "outputs": [],
      "source": [
        "# Podemos crear una función que haga la concatenación de dos listas\n",
        "\n",
        "def conc(L,M): #ESTAMOS DEFINIIENDO UNA FUNCION Y SUS DOS VARIABLES\n",
        "    x = L+M\n",
        "    return x #NOS REGRESE EL VALOR DE X (EL RESULTADO)"
      ]
    },
    {
      "cell_type": "code",
      "execution_count": null,
      "metadata": {
        "id": "OxiWaUporHQf",
        "outputId": "fff0e1ac-adae-4847-848f-a6df40f448e1"
      },
      "outputs": [
        {
          "data": {
            "text/plain": [
              "5"
            ]
          },
          "execution_count": 6,
          "metadata": {},
          "output_type": "execute_result"
        }
      ],
      "source": [
        "conc(3,2)#PIDE SUMAR LOS VALORES DADOS"
      ]
    },
    {
      "cell_type": "code",
      "execution_count": null,
      "metadata": {
        "id": "Ky25Smw2rHQf"
      },
      "outputs": [],
      "source": [
        "L = [1,2]\n",
        "M = [3,4]"
      ]
    },
    {
      "cell_type": "code",
      "execution_count": null,
      "metadata": {
        "id": "15Z72cVHrHQg",
        "outputId": "107b2446-6fb3-496d-ab6b-502ff9498d11"
      },
      "outputs": [
        {
          "data": {
            "text/plain": [
              "[1, 2, 3, 4]"
            ]
          },
          "execution_count": 8,
          "metadata": {},
          "output_type": "execute_result"
        }
      ],
      "source": [
        "conc(L,M) #CREAR UNA MATRIZ CON LAS VRIABLES CONCATENADAS"
      ]
    },
    {
      "cell_type": "code",
      "execution_count": null,
      "metadata": {
        "id": "8uOD9nHkrHQg"
      },
      "outputs": [],
      "source": [
        "# Crear una definición que sume entrada dos listas\n",
        "\n",
        "def suma_vectores(v, w):\n",
        "    x = [v[i]+w[i] for i in range(0,3)]\n",
        "    return x"
      ]
    },
    {
      "cell_type": "code",
      "execution_count": null,
      "metadata": {
        "id": "6Qs-psVgrHQg",
        "outputId": "43848988-f394-40be-bf09-eb43b177abc0"
      },
      "outputs": [
        {
          "data": {
            "text/plain": [
              "[2, 4, 6]"
            ]
          },
          "execution_count": 10,
          "metadata": {},
          "output_type": "execute_result"
        }
      ],
      "source": [
        "suma_vectores( [1,2,3], [1,2,3] ) #HACER UNA SUMA DE LOS 2 VECTORES DADOS"
      ]
    },
    {
      "cell_type": "markdown",
      "metadata": {
        "id": "LrNsXxFBrHQg"
      },
      "source": [
        "## Clases"
      ]
    },
    {
      "cell_type": "markdown",
      "metadata": {
        "id": "vMCM35IYrHQg"
      },
      "source": [
        "- No tomen argumentos\n",
        "- Muestra enunciados usando el método de inicialización `init`.\n",
        "- El método para crear clases es `class`."
      ]
    },
    {
      "cell_type": "code",
      "execution_count": null,
      "metadata": {
        "id": "XPff2y3ZrHQg"
      },
      "outputs": [],
      "source": [
        "class Animal(): #DEFINIMOS UNA NUVA CLASE\n",
        "\n",
        "    def _init_(self): #UN INICIALIZADOR DE UNA CLASE QUE SE DEFINE A SI MISMA\n",
        "        print(\"creamos una clase\")\n",
        "\n",
        "    def adivina(self): #DEFINE POLIMORFISMOS VARIABLES\n",
        "        print(\"Hola, soy un animal\")\n",
        "\n",
        "    def escribir(self):\n",
        "        print(\"Estoy escribiendo\")"
      ]
    },
    {
      "cell_type": "code",
      "execution_count": null,
      "metadata": {
        "id": "IITa2dDKrHQg"
      },
      "outputs": [],
      "source": []
    },
    {
      "cell_type": "code",
      "execution_count": null,
      "metadata": {
        "id": "rLonpJGnrHQh",
        "outputId": "00409179-6ff2-48ad-bc2f-88443a57d6b8"
      },
      "outputs": [
        {
          "data": {
            "text/plain": [
              "__main__.Animal"
            ]
          },
          "execution_count": 12,
          "metadata": {},
          "output_type": "execute_result"
        }
      ],
      "source": [
        "type(Animal())#MARCA QUE TIPO DE CLASE ES"
      ]
    },
    {
      "cell_type": "code",
      "execution_count": null,
      "metadata": {
        "id": "wxB16gYerHQh"
      },
      "outputs": [],
      "source": [
        "animal = Animal()"
      ]
    },
    {
      "cell_type": "code",
      "execution_count": null,
      "metadata": {
        "id": "nyqC5jbtrHQh",
        "outputId": "24d279ec-660e-4938-9e4c-5854b83ff866"
      },
      "outputs": [
        {
          "name": "stdout",
          "output_type": "stream",
          "text": [
            "Hola, soy un animal\n"
          ]
        }
      ],
      "source": [
        "animal.adivina()#EJECUTA LAS CLASES ANTES DEFINIDAS"
      ]
    },
    {
      "cell_type": "code",
      "execution_count": null,
      "metadata": {
        "id": "j3oYhT21rHQh",
        "outputId": "6b6e89ab-5de7-4151-b026-2ebe41e178a3"
      },
      "outputs": [
        {
          "name": "stdout",
          "output_type": "stream",
          "text": [
            "Estoy escribiendo\n"
          ]
        }
      ],
      "source": [
        "animal.escribir()"
      ]
    },
    {
      "cell_type": "markdown",
      "metadata": {
        "id": "f9fhVjpnrHQh"
      },
      "source": [
        "## Herencia"
      ]
    },
    {
      "cell_type": "markdown",
      "metadata": {
        "id": "eVAMtIuhrHQh"
      },
      "source": [
        "Crear nuevas clases inherentes a métodos de la \"clase base\"."
      ]
    },
    {
      "cell_type": "code",
      "execution_count": null,
      "metadata": {
        "id": "ndzWVnELrHQh"
      },
      "outputs": [],
      "source": [
        "#DEFINIMOS UNA NUVA CLASE\n",
        "class Perro(Animal):\n",
        "\n",
        "    def __init__(self): #UN INICIALIZADOR DE UNA CLASE QUE SE DEFINE A SI MISMA\n",
        "        Animal._init_(self)\n",
        "        print(\"Creamos una clase Perro\")\n",
        "#DEFINE CLASES HEREDADAS\n",
        "    def adivina(self):#DEFINE POLIMORFISMOS VARIABLES\n",
        "        print(\"Soy Cleto\")\n",
        "\n",
        "    def wuaw(self):\n",
        "        print(\"WUAU\")"
      ]
    },
    {
      "cell_type": "code",
      "execution_count": null,
      "metadata": {
        "id": "oJ9NjUTfrHQi",
        "outputId": "fe043054-bb3c-49db-9c1b-b15f440700bb"
      },
      "outputs": [
        {
          "name": "stdout",
          "output_type": "stream",
          "text": [
            "creamos una clase\n",
            "Creamos una clase Perro\n"
          ]
        }
      ],
      "source": [
        "perro = Perro() #LE ESTAMOS DANDO UN VALOR A A VARIABLE PERRO"
      ]
    },
    {
      "cell_type": "code",
      "execution_count": null,
      "metadata": {
        "id": "Qk4tIszerHQi",
        "outputId": "284f50df-22d7-41de-c665-a08a8d2d9f2e"
      },
      "outputs": [
        {
          "data": {
            "text/plain": [
              "<__main__.Perro at 0x7fc3aeaaed00>"
            ]
          },
          "execution_count": 18,
          "metadata": {},
          "output_type": "execute_result"
        }
      ],
      "source": [
        "perro #DATOS DE SU ALMACENAMIENTO"
      ]
    },
    {
      "cell_type": "code",
      "execution_count": null,
      "metadata": {
        "id": "dtL4ZeyKrHQi",
        "outputId": "93dda8e4-3acd-42cf-ffcc-2843eac74220"
      },
      "outputs": [
        {
          "name": "stdout",
          "output_type": "stream",
          "text": [
            "Hola, soy un animal\n",
            "None\n",
            "Soy Cleto\n",
            "None\n"
          ]
        }
      ],
      "source": [
        "print(animal.adivina()) #EJECUTA EL PROBLEMA\n",
        "print(perro.adivina())"
      ]
    },
    {
      "cell_type": "code",
      "execution_count": null,
      "metadata": {
        "id": "W6Z5lhb8rHQi",
        "outputId": "b477656f-57d1-4b9c-b004-aeff3a376cd4"
      },
      "outputs": [
        {
          "name": "stdout",
          "output_type": "stream",
          "text": [
            "WUAU\n"
          ]
        }
      ],
      "source": [
        "perro.wuaw() #MANDAMOS A HACER UNA FUNCION"
      ]
    },
    {
      "cell_type": "code",
      "execution_count": null,
      "metadata": {
        "id": "YF6nfpG0rHQi",
        "outputId": "e364a633-86b0-4e0d-a4c1-5b0f1ea4e19f"
      },
      "outputs": [
        {
          "name": "stdout",
          "output_type": "stream",
          "text": [
            "Soy Cleto\n"
          ]
        }
      ],
      "source": [
        "perro.adivina()"
      ]
    },
    {
      "cell_type": "markdown",
      "metadata": {
        "id": "bT-ZKxvcrHQi"
      },
      "source": [
        "### Ejemplo"
      ]
    },
    {
      "cell_type": "code",
      "execution_count": null,
      "metadata": {
        "id": "AHeY01W3rHQi"
      },
      "outputs": [],
      "source": [
        "class Fecha():#DEFINMOS NUEVA CLASE\n",
        " ##UN INICIALIZADOR DE UNA CLASE QUE SE DEFINE A SI MISMA\n",
        "    def _init_(self):\n",
        "        print(\"creamos una clase que da la fecha\")\n",
        "\n",
        "    def fecha(self):\n",
        "        return \"2022-25-08\"\n"
      ]
    },
    {
      "cell_type": "code",
      "execution_count": null,
      "metadata": {
        "id": "TnbqWq0-rHQj"
      },
      "outputs": [],
      "source": [
        "f = Fecha()#DEFINIMS L VARIABLE F COMO LA CLASE ANTRIOR"
      ]
    },
    {
      "cell_type": "code",
      "execution_count": null,
      "metadata": {
        "id": "DqI49nAHrHQj",
        "outputId": "d010026a-0e4a-474a-83ea-ee8fe8c06e24"
      },
      "outputs": [
        {
          "data": {
            "text/plain": [
              "'2022-25-08'"
            ]
          },
          "execution_count": 24,
          "metadata": {},
          "output_type": "execute_result"
        }
      ],
      "source": [
        "f.fecha() #EJECUTAMOS F"
      ]
    },
    {
      "cell_type": "code",
      "execution_count": null,
      "metadata": {
        "id": "V38tHADjrHQj"
      },
      "outputs": [],
      "source": [
        "class Tiempo(Fecha):\n",
        "\n",
        "# CONSTRUCTOR DE LA CLASE TIEMPO\n",
        "  def __init__(self):\n",
        "    # SE INICIALIZA EL CONSTRUCTOR DE LA CLASE PADRE Fecha\n",
        "    Fecha.__init__(self)\n",
        "    # SE IMPRIME UN MENSAJE AL CREAR UN OBJETO TIEMPO\n",
        "    print(\"Creamos una clase Tiempo\")\n",
        "\n",
        "  # MÉTODO PARA OBTENER LA HORA\n",
        "  def hora(self):\n",
        "    # SE RETORNA LA HORA \"7:00\"\n",
        "    return \"7:00\""
      ]
    },
    {
      "cell_type": "code",
      "execution_count": null,
      "metadata": {
        "id": "VdIbSawHrHQj",
        "outputId": "070662cd-998a-4139-a79f-72849a783abf"
      },
      "outputs": [
        {
          "data": {
            "text/plain": [
              "'7:00'"
            ]
          },
          "execution_count": 26,
          "metadata": {},
          "output_type": "execute_result"
        }
      ],
      "source": [
        "# CREACIÓN DE UN OBJETO TIEMPO\n",
        "t = Tiempo()\n",
        "\n",
        "# LLAMADA AL MÉTODO HORA DEL OBJETO t\n",
        "print(t.hora())\n"
      ]
    },
    {
      "cell_type": "markdown",
      "metadata": {
        "id": "aulKEFl8rHQj"
      },
      "source": [
        "### Métodos objeto"
      ]
    },
    {
      "cell_type": "markdown",
      "metadata": {
        "id": "dp-cd425rHQj"
      },
      "source": [
        "`_init_` inicializa la clase base.\n",
        "`__init__` inicializa la clase base y sirve como constructor. Ojo: se ponen dos guiones abajo al principio y al final."
      ]
    },
    {
      "cell_type": "code",
      "execution_count": null,
      "metadata": {
        "id": "ThcCeFVdrHQj"
      },
      "outputs": [],
      "source": [
        "# CLASE PERSONA\n",
        "\n",
        "class Persona():\n",
        "\n",
        "  # CONSTRUCTOR DE LA CLASE PERSONA\n",
        "  def __init__(self, nombre):\n",
        "    # SE ASIGNA EL NOMBRE A LA VARIABLE DE INSTANCIA self.nombre\n",
        "    self.nombre = nombre\n",
        "\n",
        "  # MÉTODO PARA SALUDAR\n",
        "  def greet(self):\n",
        "    # SE IMPRIME UN MENSAJE CON EL NOMBRE ALMACENADO\n",
        "    print(\"Hola, mi nombre es\", self.nombre)\n",
        "\n",
        "# CREACIÓN DE UN OBJETO PERSONA\n",
        "p = Persona(\"Juan\")\n",
        "\n",
        "# LLAMADA AL MÉTODO GREET DEL OBJETO p\n",
        "p.greet()"
      ]
    },
    {
      "cell_type": "code",
      "execution_count": null,
      "metadata": {
        "id": "__t9xG28rHQk"
      },
      "outputs": [],
      "source": [
        "p = Persona(\"Aarón\") # Se crea un objeto de la clase Persona con el nombre \"Aarón\""
      ]
    },
    {
      "cell_type": "code",
      "execution_count": null,
      "metadata": {
        "id": "LPKdyYCBrHQk",
        "outputId": "cc92a9a3-49b4-4065-9b00-a1d5eba4a564"
      },
      "outputs": [
        {
          "name": "stdout",
          "output_type": "stream",
          "text": [
            "Hola, mi nombre es Aarón\n"
          ]
        }
      ],
      "source": [
        "p.greet() #eJECUTAMOS GREET"
      ]
    },
    {
      "cell_type": "code",
      "execution_count": null,
      "metadata": {
        "id": "N0-U4jmWrHQk"
      },
      "outputs": [],
      "source": [
        "class Complex():\n",
        "\n",
        "# CONSTRUCTOR DE LA CLASE COMPLEX\n",
        "  def __init__(self, real, imaginaria):\n",
        "    # ALMACENAMIENTO DE LA PARTE REAL EN self.r\n",
        "    self.r = real\n",
        "\n",
        "    # ALMACENAMIENTO DE LA PARTE IMAGINARIA\n",
        "\n",
        "    self.i = imaginaria"
      ]
    },
    {
      "cell_type": "code",
      "execution_count": null,
      "metadata": {
        "id": "oD84VSxirHQk"
      },
      "outputs": [],
      "source": [
        "z = Complex(3.0,4.0) # Se crea un objeto z de la clase Complex con valores reales y imaginarios\n",
        "\n"
      ]
    },
    {
      "cell_type": "code",
      "execution_count": null,
      "metadata": {
        "id": "8jLfNq1orHQk",
        "outputId": "da08ac49-2b6f-4acd-f647-e31b8197cbbc"
      },
      "outputs": [
        {
          "data": {
            "text/plain": [
              "3.0"
            ]
          },
          "execution_count": 32,
          "metadata": {},
          "output_type": "execute_result"
        }
      ],
      "source": [
        "z.r # JECUTA Z EN REAL"
      ]
    },
    {
      "cell_type": "code",
      "execution_count": null,
      "metadata": {
        "id": "f8gO0qyZrHQl",
        "outputId": "bc8e052a-1338-4226-e220-5afdea51c153"
      },
      "outputs": [
        {
          "data": {
            "text/plain": [
              "4.0"
            ]
          },
          "execution_count": 33,
          "metadata": {},
          "output_type": "execute_result"
        }
      ],
      "source": [
        "z.i# EJECUTA Z EN IMAGINARIO"
      ]
    },
    {
      "cell_type": "code",
      "execution_count": null,
      "metadata": {
        "id": "RlH7D0C5rHQl"
      },
      "outputs": [],
      "source": [
        "Python\n",
        "class Perro():\n",
        "\n",
        "  # ATRIBUTO DE CLASE\n",
        "  animal = \"perrito\"\n",
        "\n",
        "  # CONSTRUCTOR DE LA CLASE PERRO\n",
        "  def __init__(self, Raza, Color, Edad):\n",
        "    self.Raza = Raza\n",
        "\n",
        "    # ALMACENAMIENTO DEL COLOR\n",
        "    self.Color = Color\n",
        "\n",
        "    # ALMACENAMIENTO DE LA EDAD\n",
        "    self.Edad = Edad\n"
      ]
    },
    {
      "cell_type": "code",
      "execution_count": null,
      "metadata": {
        "id": "3XmcyuaurHQl"
      },
      "outputs": [],
      "source": [
        "# DEFIN UNA VARIABLE COMO LA CLASE PERRO\n",
        "Cleto = Perro(\"Pug\", \"beige\", \"viejito\")"
      ]
    },
    {
      "cell_type": "code",
      "execution_count": null,
      "metadata": {
        "id": "nz5-UyUtrHQl",
        "outputId": "307206a1-74ef-4ff9-a691-d4bbd1cc7663"
      },
      "outputs": [
        {
          "name": "stdout",
          "output_type": "stream",
          "text": [
            "Cleto detalles:\n",
            "Cleto es un perrito\n",
            "La raza de Cleto es Pug\n",
            "El color de Cleto es beige\n",
            "La edad de Cleto es viejito\n"
          ]
        }
      ],
      "source": [
        "# IMPRESIÓN DEL NOMBRE Y ENCABEZADO\n",
        "print(\"Cleto detalles:\")\n",
        "\n",
        "# IMPRESIÓN DEL TIPO DE ANIMAL\n",
        "print(\"Cleto es un\", Cleto.animal)\n",
        "\n",
        "# IMPRESIÓN DE LA RAZA\n",
        "print(\"La raza de Cleto es\", Cleto.Raza)\n",
        "\n",
        "# IMPRESIÓN DEL COLOR\n",
        "print(\"El color de Cleto es\", Cleto.Color)\n",
        "\n",
        "# IMPRESIÓN DE LA EDAD\n",
        "print(\"La edad de Cleto es\", Cleto.Edad)"
      ]
    },
    {
      "cell_type": "markdown",
      "metadata": {
        "id": "ya-c5WwRrHQl"
      },
      "source": [
        "## Otro ejemplo"
      ]
    },
    {
      "cell_type": "code",
      "execution_count": null,
      "metadata": {
        "id": "-O6oCpIArHQl"
      },
      "outputs": [],
      "source": [
        "class Empleados():\n",
        "\n",
        "  #CONTADOR DE EMPLEADOS Y UNA VARIABLE DE CLASE QUE ALMACENA EL NÚMERO DE EMPLEADOS CREADOS\n",
        "  Conteo = 0\n",
        "  # INICIALIZA UN NUEVO EMPLEADO CON NOMBRE Y SALARIO\n",
        "  def __init__(self, nombre, salario):\n",
        "    # ALMACENAMIENTO DEL NOMBRE\n",
        "    self.nombre = nombre\n",
        "\n",
        "    # ALMACENAMIENTO DEL SALARIO\n",
        "    self.salario = salario\n",
        "\n",
        "    #INCREMENTO DEL CONTADOR DE EMPLEADOS Y SE INCREMENTA EL CONTADOR DE EMPLEADOS EN 1 CADA VEZ QUE SE CREA UN NUEVO EMPLEADO\n",
        "    Empleados.Conteo += 1\n",
        "\n",
        "  # MÉTODO PARA MOSTRAR EL CONTADOR DE EMPLEADOS Y MUESTRA EL NÚMERO TOTAL DE EMPLEADOS CREADOS\n",
        "  def conteo(self):\n",
        "    print(\"Empleados %d\" % Empleados.Conteo)\n",
        "\n",
        "  #MÉTODO PARA MOSTRAR LA INFORMACIÓN DEL EMPLEADO Y MUESTRA EL NOMBRE Y EL SALARIO DEL EMPLEADO\n",
        "  def empleado(self):\n",
        "    print(\"Nombre:\", self.nombre, \", Salario:\", self.salario)"
      ]
    },
    {
      "cell_type": "code",
      "execution_count": null,
      "metadata": {
        "id": "_-VfeReKrHQm"
      },
      "outputs": [],
      "source": [
        "emp1 = Empleados(\"Carlos\", 10000) # CREACIÓN DE DOS EMPLEADOS"
      ]
    },
    {
      "cell_type": "code",
      "execution_count": null,
      "metadata": {
        "id": "42H-_UsmrHQm"
      },
      "outputs": [],
      "source": [
        "emp2 = Empleados(\"Esteban\", 30000) #CONTEO DE EMPLEADOS"
      ]
    },
    {
      "cell_type": "code",
      "execution_count": null,
      "metadata": {
        "id": "JTK5tvKerHQm",
        "outputId": "4f212d57-ca7f-4b7b-a636-ad37035ac48b"
      },
      "outputs": [
        {
          "name": "stdout",
          "output_type": "stream",
          "text": [
            "Nombre: Esteban ,Salario: 30000\n"
          ]
        }
      ],
      "source": [
        "emp2.empleado() # MOSTRAR LA INFORMACIÓN DEL EMPLEADO 2"
      ]
    },
    {
      "cell_type": "code",
      "execution_count": null,
      "metadata": {
        "id": "I1zbKIvgrHQm",
        "outputId": "5a1b3ad2-e668-4a6a-ca2f-fc6b138455b1"
      },
      "outputs": [
        {
          "data": {
            "text/plain": [
              "2"
            ]
          },
          "execution_count": 41,
          "metadata": {},
          "output_type": "execute_result"
        }
      ],
      "source": [
        "Empleados.Conteo# EJECUTA CONBTEO DE EMPLEADOS EN EL SISTEMA"
      ]
    },
    {
      "cell_type": "code",
      "execution_count": null,
      "metadata": {
        "id": "66tloWY4rHQm",
        "outputId": "77e06665-b949-4410-f4a5-093dc1f7c8b4"
      },
      "outputs": [
        {
          "name": "stdout",
          "output_type": "stream",
          "text": [
            "Total de empleados 4\n"
          ]
        }
      ],
      "source": [
        "emp1 = Empleados(\"Carlos\", 10000) # Mostrar el contador de empleados\n",
        "emp2 = Empleados(\"Esteban\", 30000)\n",
        "\n",
        "print(\"Total de empleados %d\" % Empleados.Conteo)"
      ]
    },
    {
      "cell_type": "markdown",
      "metadata": {
        "id": "AvV1KNjRrHQm"
      },
      "source": [
        "## Clases, herencias y polimorfismos"
      ]
    },
    {
      "cell_type": "code",
      "execution_count": null,
      "metadata": {
        "id": "8emfc6qOrHQm"
      },
      "outputs": [],
      "source": [
        "class Person:\n",
        "\n",
        "  # INICIALIZA EL APELLIDO, NOMBRE Y EDAD DE UNA PERSONA\n",
        "  def __init__(self, last_name, first_name, age):\n",
        "    # ALMACENAMIENTO DEL APELLIDO CON ENCAPSULAMIENTO Y SE ALMACENA EL APELLIDO DE LA PERSONA\n",
        "    self.__last_name = last_name\n",
        "\n",
        "    # ALMACENAMIENTO DEL NOMBRE CON ENCAPSULAMIENTO Y SE ALMACENA EL NOMBRE DE LA PERSONA\n",
        "    self.__first_name = first_name\n",
        "\n",
        "    # ALMACENAMIENTO DE LA EDAD CON ENCAPSULAMIENTO\n",
        "    self.__age = age\n",
        "\n",
        "  # PROPIEDAD LAST_NAME (GETTER) Y DEVUELVE EL APELLIDO DE LA PERSONA\n",
        "  @property\n",
        "  def last_name(self):\n",
        "    return self.__last_name\n",
        "\n",
        "  # PROPIEDAD FIRST_NAME (GETTER) Y DEVUELVE EL NOMBRE DE LA PERSONA\n",
        "  @property\n",
        "  def first_name(self):\n",
        "    return self.__first_name\n",
        "\n",
        "  # PROPIEDAD AGE (GETTER) Y DEVUELVE LA EDAD DE LA PERSONA\n",
        "  @property\n",
        "  def age(self):\n",
        "    return self.__age\n",
        "\n",
        "  # DEFINE MÉTODO HAPPY_BIRTHDAY E INCREMENTA LA EDAD DE LA PERSONA EN 1 AÑO\n",
        "  def happy_birthday(self):\n",
        "    # AMODIFICA LA EDAD EN EL SISTEMA\n",
        "    self.__age += 1\n"
      ]
    },
    {
      "cell_type": "code",
      "execution_count": null,
      "metadata": {
        "id": "CGGdbKDPrHQn",
        "outputId": "84cc534c-2177-40bb-b765-70845f7e21f3"
      },
      "outputs": [
        {
          "name": "stdout",
          "output_type": "stream",
          "text": [
            "Gal\n",
            "<bound method Person.happy_birthday of <__main__.Person object at 0x7fc3aeac94f0>>\n"
          ]
        }
      ],
      "source": [
        " cesar = Person(\"Gal\", \"César\", 25)# CREACIÓN DE UNA PERSONA\n",
        "print(cesar.last_name)# IMPRESIÓN DEL APELLIDO\n",
        "print(john.happy_birthday)# CELEBRACIÓN DE CUMPLEAÑOS\n"
      ]
    },
    {
      "cell_type": "code",
      "execution_count": null,
      "metadata": {
        "id": "7beysN2irHQn",
        "outputId": "c6f141e4-b95f-4298-d16d-096738582f34"
      },
      "outputs": [
        {
          "name": "stdout",
          "output_type": "stream",
          "text": [
            "True\n",
            "True\n"
          ]
        }
      ],
      "source": [
        "cclass PrimeNumber:\n",
        "\n",
        "  # CONSTRUCTOR DE LA CLASE PRIME NUMBER E INICIALIZA CON UN NÚMERO ENTERO\n",
        "  def __init__(self, number):\n",
        "    # ALMACENAMIENTO DEL NÚMERO\n",
        "    self.number = number\n",
        "\n",
        "  #MÉTODO PARA COMPROBAR PRIMALIDAD Y DEVUELVE `True` SI EL NÚMERO ES PRIMO, `False` SI NO\n",
        "  def is_prime(self):\n",
        "    # COMPROBACIÓN PARA NÚMEROS MENORES QUE 2 Y REGRESA FALSO\n",
        "    if self.number < 2:\n",
        "      return False\n",
        "\n",
        "    # COMPRUEBA SI ES UN NUMERO PRIMO\n",
        "    for i in range(2, int(self.number ** 0.5) + 1):\n",
        "      if self.number % i == 0:\n",
        "        return False\n",
        "\n",
        "    # NÚMERO PRIMO SI LLEGA HASTA AQUÍ\n",
        "    return True\n",
        "\n",
        "\n",
        "#CLASE POSITIVEPRIME NUMBER CON COMENTARIOS:\n",
        "class PositivePrimeNumber(PrimeNumber):\n",
        "\n",
        "  # CONSTRUCTOR DE LA CLASE POSITIVE PRIME NUMBER\n",
        "  # HEREDA DE PRIME NUMBER Y VALIDA QUE EL NÚMERO SEA POSITIVO\n",
        "  def __init__(self, number):\n",
        "    # SE VERIFICA QUE EL NÚMERO SEA MAYOR QUE 0\n",
        "    if number <= 0:\n",
        "      raise ValueError(\"El número debe ser positivo\")\n",
        "    # SE INICIALIZA LA CLASE PADRE CON EL NÚMERO VALIDAD\n",
        "    super().__init__(number)\n",
        "\n",
        "# Example usage:\n",
        "num1 = PrimeNumber(7)\n",
        "print(num1.is_prime()) # Output: True\n",
        "\n",
        "num2 = PositivePrimeNumber(11)\n",
        "print(num2.is_prime()) # Output: True\n"
      ]
    }
  ],
  "metadata": {
    "kernelspec": {
      "display_name": "Python 3 (ipykernel)",
      "language": "python",
      "name": "python3"
    },
    "language_info": {
      "codemirror_mode": {
        "name": "ipython",
        "version": 3
      },
      "file_extension": ".py",
      "mimetype": "text/x-python",
      "name": "python",
      "nbconvert_exporter": "python",
      "pygments_lexer": "ipython3",
      "version": "3.9.13"
    },
    "colab": {
      "provenance": []
    }
  },
  "nbformat": 4,
  "nbformat_minor": 0
}